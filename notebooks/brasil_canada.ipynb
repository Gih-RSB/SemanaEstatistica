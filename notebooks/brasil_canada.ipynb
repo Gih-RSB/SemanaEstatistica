{
 "cells": [
  {
   "cell_type": "code",
   "execution_count": 1,
   "metadata": {},
   "outputs": [
    {
     "ename": "TypeError",
     "evalue": "'int' object is not callable",
     "output_type": "error",
     "traceback": [
      "\u001b[1;31m---------------------------------------------------------------------------\u001b[0m",
      "\u001b[1;31mTypeError\u001b[0m                                 Traceback (most recent call last)",
      "Cell \u001b[1;32mIn[1], line 3\u001b[0m\n\u001b[0;32m      1\u001b[0m \u001b[38;5;28;01mimport\u001b[39;00m \u001b[38;5;21;01mkeyword\u001b[39;00m\n\u001b[0;32m      2\u001b[0m \u001b[38;5;28mprint\u001b[39m \u001b[38;5;241m=\u001b[39m \u001b[38;5;241m10\u001b[39m\n\u001b[1;32m----> 3\u001b[0m \u001b[38;5;28;43mprint\u001b[39;49m\u001b[43m \u001b[49m\u001b[43m(\u001b[49m\u001b[43mkeyword\u001b[49m\u001b[38;5;241;43m.\u001b[39;49m\u001b[43mkwlist\u001b[49m\u001b[43m)\u001b[49m\n",
      "\u001b[1;31mTypeError\u001b[0m: 'int' object is not callable"
     ]
    }
   ],
   "source": [
    "import keyword\n",
    "print = 10\n",
    "print (keyword.kwlist)"
   ]
  },
  {
   "cell_type": "code",
   "execution_count": 2,
   "metadata": {},
   "outputs": [],
   "source": [
    "import os\n",
    "import time \n",
    "\n",
    "while True:\n",
    "    time.sleep(2) #atrassa o proximo comando\n",
    "    os.system('cls') #limpar o terminal\n",
    "    nome = input(\"Informe o nome para calcular o imc ou deixe em branco para sair: \")\n",
    "\n",
    "    if nome != \"\":\n",
    "        altura = float(input(\"Digite a sua altura: \").replace(',','.').strip())\n",
    "        os.system('cls')\n",
    "        peso = float(input(\"Digite o seu peso: \").replace(',','.').strip())\n",
    "        os.system('cls') \n",
    "\n",
    "        imc = peso / (altura * altura)\n",
    "    \n",
    "        if  imc  < 17:\n",
    "            print(f\"{nome} está com anorexia.\")\n",
    "        elif imc < 18.5:\n",
    "            print(f\"{nome} está abaixo do peso\") \n",
    "        elif  imc  < 25:\n",
    "            print(f\"{nome} está no peso ideal.\")\n",
    "        elif imc < 30:\n",
    "            print(f\"{nome} está acima do peso.\")\n",
    "        elif imc  < 35:\n",
    "            print(f\"{nome} está com grau de obesidade I.\")\n",
    "        elif imc < 40.5:\n",
    "            print(f\"{nome} está com grau de obesidade II.\")\n",
    "        else:  \n",
    "            print(f\"{nome} está com grau de obesidade mórbida.\")\n",
    "    else:\n",
    "        break"
   ]
  },
  {
   "cell_type": "code",
   "execution_count": null,
   "metadata": {},
   "outputs": [],
   "source": []
  }
 ],
 "metadata": {
  "kernelspec": {
   "display_name": ".venv",
   "language": "python",
   "name": "python3"
  },
  "language_info": {
   "codemirror_mode": {
    "name": "ipython",
    "version": 3
   },
   "file_extension": ".py",
   "mimetype": "text/x-python",
   "name": "python",
   "nbconvert_exporter": "python",
   "pygments_lexer": "ipython3",
   "version": "3.12.5"
  }
 },
 "nbformat": 4,
 "nbformat_minor": 2
}
